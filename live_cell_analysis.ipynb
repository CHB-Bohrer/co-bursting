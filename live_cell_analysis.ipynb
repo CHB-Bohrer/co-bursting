{
 "cells": [
  {
   "cell_type": "markdown",
   "metadata": {},
   "source": [
    "<h2> This is the code and figure script to quantify the live cell dynamics of TFF1 </h2> \n",
    "<p> The data for this analysis is stored in the folder live_cell_analysis. See the following code to determine the specifics. If it is still unclear, please dont hesitate to contact me: bohrerch@nih.gov. The goal of this section is to quantify the diffusion of the TFF1 allels relative to each other! </p>"
   ]
  },
  {
   "cell_type": "code",
   "execution_count": 1,
   "metadata": {},
   "outputs": [],
   "source": [
    "#Load in your stuff\n",
    "#First we are going to load in the needed programs\n",
    "import numpy as np\n",
    "import pickle \n",
    "pickle.HIGHEST_PROTOCOL = 4\n",
    "import pandas as pd\n",
    "from scipy import stats\n",
    "from scipy.stats import norm, gaussian_kde\n",
    "from scipy.spatial.distance import pdist\n",
    "from scipy.spatial.distance import cdist\n",
    "import matplotlib\n",
    "import matplotlib.pyplot as plt\n",
    "from IPython.display import clear_output\n",
    "import time\n",
    "import copy\n",
    "import seaborn as sns\n",
    "import dill #This will be used to store the workplace so you dont have to run certain cells\n",
    "sns.set()\n",
    "import os \n",
    "from math import nan\n",
    "import math \n",
    "import ast\n",
    "from numpy import mean"
   ]
  },
  {
   "cell_type": "code",
   "execution_count": 2,
   "metadata": {},
   "outputs": [],
   "source": [
    "(_, _, filenames) = next(os.walk('multi allele cells/'))\n",
    "data_store={'x normal':[],'y normal':[], 'Frame Difference': []}\n",
    "df2=pd.DataFrame(data_store)\n"
   ]
  },
  {
   "cell_type": "markdown",
   "metadata": {},
   "source": [
    "<h3> Grab live cell data and organize it in terms of displacements </h3>"
   ]
  },
  {
   "cell_type": "code",
   "execution_count": 3,
   "metadata": {},
   "outputs": [],
   "source": [
    "#This is including jumps of frame (I have done no jumps in frame and it results in similar results)\n",
    "(_, _, filenames) = next(os.walk('Live_Cell_Analysis/multi allele cells/'))\n",
    "\n",
    "data_store={'x normal':[],'y normal':[], 'Frame Difference': []}\n",
    "df2=pd.DataFrame(data_store)\n",
    "\n",
    "#First extract out the cell names (We want to analyze diffusion within individual cells)\n",
    "cell=[]\n",
    "for i in filenames: \n",
    "    cell.append(i[0:2])\n",
    "    \n",
    "for ii in np.unique(cell):\n",
    "    \n",
    "    data_for_cell={}\n",
    "    count=0\n",
    "    count2=0\n",
    "    \n",
    "    for i in cell:\n",
    "        \n",
    "        if i==ii:\n",
    "            data_for_cell[count]=pd.read_csv('Live_Cell_Analysis/multi allele cells/'+filenames[count2],  header=None, delim_whitespace=True).values\n",
    "            count=count+1\n",
    "            #print(i)\n",
    "            \n",
    "        count2=count2+1\n",
    "        \n",
    "    #Now we are going to generate the displacements between loci given a frame separation and applend it to a data structure\n",
    "    for iii in range(len(data_for_cell)):\n",
    "        \n",
    "        Temp1=data_for_cell[iii]\n",
    "        #Filter out the repeats (the way the )\n",
    "        for sack in range(len(Temp1)-1,0,-1):\n",
    "            if Temp1[sack,0]==Temp1[sack-1,0]:\n",
    "                Temp1[sack,:]=Temp1[sack,:]*nan\n",
    "            \n",
    "        \n",
    "        for iiii in range(iii+1, len(data_for_cell)):\n",
    "            \n",
    "            Temp2=data_for_cell[iiii]\n",
    "                #Filter out the repeats\n",
    "            for sack in range(len(Temp2)-1,0,-1):\n",
    "                if Temp2[sack,0]==Temp2[sack-1,0]:\n",
    "                    Temp2[sack,:]=Temp2[sack,:]*nan\n",
    "\n",
    "            \n",
    "            \n",
    "            \n",
    "            data_store={'x normal':[],'y normal':[], 'Frame Difference': []}\n",
    "            df2_t=pd.DataFrame(data_store)\n",
    "            for kcat in range(len(Temp1)):\n",
    "                \n",
    "                    frame1=Temp1[kcat,3]\n",
    "                    ind2=Temp2[:,3]==frame1\n",
    "                    \n",
    "                    if np.sum(ind2)>0:\n",
    "                        dis_bet=Temp1[kcat,0:2]-Temp2[ind2,0:2]\n",
    "                        Frame_dif=Temp1[kcat,3]-Temp2[ind2,3]\n",
    "                        #This is because the size of the pixel is 160 nm\n",
    "                        df2_t.loc[len(df2_t.index)] =[dis_bet[0][0]*160,dis_bet[0][1]*160, frame1]\n",
    "                        \n",
    "            for kent in range(len(df2_t)):\n",
    "                    df2_tt=df2_t-df2_t.iloc[kent]\n",
    "                    df2=df2.append(df2_tt, ignore_index=True)"
   ]
  },
  {
   "cell_type": "code",
   "execution_count": 6,
   "metadata": {},
   "outputs": [],
   "source": [
    "#Organize the data even further\n",
    "df2['xsquared']=(df2['x normal']/1000)**2\n",
    "df2['ysquared']=(df2['y normal']/1000)**2\n",
    "df2['Root-Mean-Squared Distance x (nm)']=(df2['xsquared'])**.5\n",
    "df2['Root-Mean-Squared Distance y (nm)']=(df2['ysquared'])**.5\n",
    "df2['MSD (2d, $\\mu m^2$)']=(df2['ysquared']+df2['xsquared'])\n",
    "df2['Time (sec)']=np.round(df2['Frame Difference']*100,1)\n",
    "#df2['Time (sec)'][df2['Trajectory']==0]=nan \n",
    "df2['MSD (2d, $\\mu m^2$)'][df2['Time (sec)']<1]=nan \n",
    "df2['Time (sec)'][df2['Time (sec)']<0]=nan \n",
    "df2['MSD (2d, $\\mu m^2$)'][df2['MSD (2d, $\\mu m^2$)']>20]=nan "
   ]
  },
  {
   "cell_type": "markdown",
   "metadata": {},
   "source": [
    "<h3> Now we are going to generate the figures and quantify diffusion coef </h3>"
   ]
  },
  {
   "cell_type": "code",
   "execution_count": 10,
   "metadata": {},
   "outputs": [
    {
     "data": {
      "image/png": "[encoded data removed]",
      "text/plain": [
       "<Figure size 432x288 with 1 Axes>"
      ]
     },
     "metadata": {},
     "output_type": "display_data"
    }
   ],
   "source": [
    "fig=plt.figure()\n",
    "sns.set(font_scale=1.55)\n",
    "df2['Time (sec)'][df2['Time (sec)']>3000]=nan \n",
    "ax = sns.regplot(x='Time (sec)', y='MSD (2d, $\\mu m^2$)',\n",
    "                        data=df2, scatter_kws=None, x_estimator=np.mean, order=1, x_bins=105)\n",
    "\n",
    "#This will quantify the diffusion coef, that is the line...\n",
    "vv1=ax.get_lines()[0].get_xdata()\n",
    "vv1_2=ax.get_lines()[1].get_xdata()\n",
    "vv2=ax.get_lines()[0].get_ydata()\n",
    "vv2_2=ax.get_lines()[1].get_ydata()\n",
    "plt.ylim(0,3)\n",
    "plt.xlim(0,3000)\n",
    "#plt.title('Not Relative')\n",
    "fig.savefig(\"Figures/\"+\"MSD.png\", dpi=300, bbox_inches='tight')"
   ]
  },
  {
   "cell_type": "code",
   "execution_count": 17,
   "metadata": {},
   "outputs": [
    {
     "name": "stdout",
     "output_type": "stream",
     "text": [
      "0.0010099999999999998\n",
      "D equals =  0.00025\n"
     ]
    }
   ],
   "source": [
    "#Here we are quantifying the slope and the diff\n",
    "vv1, vv1_2, vv2, vv2_2\n",
    "print((.283-.182)/100)\n",
    "print('D equals = ',.001/4)"
   ]
  }
 ],
 "metadata": {
  "kernelspec": {
   "display_name": "Python 3",
   "language": "python",
   "name": "python3"
  },
  "language_info": {
   "codemirror_mode": {
    "name": "ipython",
    "version": 3
   },
   "file_extension": ".py",
   "mimetype": "text/x-python",
   "name": "python",
   "nbconvert_exporter": "python",
   "pygments_lexer": "ipython3",
   "version": "3.8.0"
  }
 },
 "nbformat": 4,
 "nbformat_minor": 4
}
